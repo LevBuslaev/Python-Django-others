{
 "cells": [
  {
   "cell_type": "code",
   "execution_count": 2,
   "metadata": {},
   "outputs": [
    {
     "name": "stdout",
     "output_type": "stream",
     "text": [
      "My name is Leon\n"
     ]
    }
   ],
   "source": [
    "print(\"My name is {}\".format(\"Leon\"))"
   ]
  },
  {
   "cell_type": "code",
   "execution_count": 3,
   "metadata": {},
   "outputs": [
    {
     "name": "stdout",
     "output_type": "stream",
     "text": [
      "My name is Leon\n"
     ]
    }
   ],
   "source": [
    "my_name = \"Leon\"\n",
    "print(\"My name is {}\".format(my_name))"
   ]
  },
  {
   "cell_type": "code",
   "execution_count": 4,
   "metadata": {},
   "outputs": [
    {
     "name": "stdout",
     "output_type": "stream",
     "text": [
      "My name is Leon and I'm 30\n"
     ]
    }
   ],
   "source": [
    "print(\"My name is {} and I'm {}\".format(my_name, 30))"
   ]
  },
  {
   "cell_type": "code",
   "execution_count": 5,
   "metadata": {},
   "outputs": [
    {
     "name": "stdout",
     "output_type": "stream",
     "text": [
      "My name is Leon and I'm 30\n"
     ]
    }
   ],
   "source": [
    "print(\"My name is {0} and I'm {1}\".format(my_name, 30)) # по умолчению плейсхолдеры {} нумерованы нарастанием"
   ]
  },
  {
   "cell_type": "code",
   "execution_count": 6,
   "metadata": {},
   "outputs": [
    {
     "name": "stdout",
     "output_type": "stream",
     "text": [
      "My name is 30 and I'm Leon\n"
     ]
    }
   ],
   "source": [
    "     # если переставить плейсхолдеры {} местами, то получим НАОБОРОТ. КРАЙНЕ РЕДКО ИСПОЛЬЗУЕТСЯ.\n",
    "print(\"My name is {1} and I'm {0}\".format(my_name, 30)) # по умолчению плейсхолдеры {} нумерованы нарастанием"
   ]
  },
  {
   "cell_type": "code",
   "execution_count": 8,
   "metadata": {},
   "outputs": [
    {
     "data": {
      "text/plain": [
       "3.1415"
      ]
     },
     "execution_count": 8,
     "metadata": {},
     "output_type": "execute_result"
    }
   ],
   "source": [
    "pi = 3.1415\n",
    "pi"
   ]
  },
  {
   "cell_type": "code",
   "execution_count": 12,
   "metadata": {},
   "outputs": [
    {
     "name": "stdout",
     "output_type": "stream",
     "text": [
      "Pi equals 3.14\n"
     ]
    }
   ],
   "source": [
    "print (\"Pi equals {pi:1.2f}\".format(pi = pi))   # 1.2    где 2- число знаков после запятой, \n",
    "                                                # 1-общая длина вывода(не именьше имеющейся)\n",
    "                                                # если бы вместо 1 было 5 или 6 илибольше, то \n",
    "                                                # 3.14 -четыре символа, стали бы с 1 или 2 пробелами ПЕРЕД\n",
    "                                                # f   - float - это число с плавающей точкой\n",
    "                #"
   ]
  },
  {
   "cell_type": "code",
   "execution_count": 13,
   "metadata": {},
   "outputs": [
    {
     "name": "stdout",
     "output_type": "stream",
     "text": [
      "Pi equals   3.14\n"
     ]
    }
   ],
   "source": [
    "print (\"Pi equals {pi:6.2f}\".format(pi = pi))   # смотри пробезы перед 3.14"
   ]
  },
  {
   "cell_type": "code",
   "execution_count": 15,
   "metadata": {},
   "outputs": [
    {
     "name": "stdout",
     "output_type": "stream",
     "text": [
      "My name is Leon and I'm 54\n"
     ]
    }
   ],
   "source": [
    "            # ИНТЕРПОЛЯЦИЯ СТРОК - более простой  вывод. Просто f и без format\n",
    "name = \"Leon\"\n",
    "age = 54\n",
    "print(f\"My name is {name} and I'm {age}\")"
   ]
  },
  {
   "cell_type": "code",
   "execution_count": 16,
   "metadata": {},
   "outputs": [
    {
     "name": "stdout",
     "output_type": "stream",
     "text": [
      "Pi equals 3.14\n"
     ]
    }
   ],
   "source": [
    "print(f\"Pi equals {pi:1.2f}\")"
   ]
  },
  {
   "cell_type": "code",
   "execution_count": null,
   "metadata": {},
   "outputs": [],
   "source": []
  }
 ],
 "metadata": {
  "kernelspec": {
   "display_name": "Python 3",
   "language": "python",
   "name": "python3"
  },
  "language_info": {
   "codemirror_mode": {
    "name": "ipython",
    "version": 3
   },
   "file_extension": ".py",
   "mimetype": "text/x-python",
   "name": "python",
   "nbconvert_exporter": "python",
   "pygments_lexer": "ipython3",
   "version": "3.7.4"
  }
 },
 "nbformat": 4,
 "nbformat_minor": 2
}
