{
 "cells": [
  {
   "cell_type": "code",
   "execution_count": 14,
   "metadata": {},
   "outputs": [],
   "source": [
    "class Character():     # У нас есть класс Character\n",
    "    max_speed = 100        # это аттрибуты(переменные/свойства) уровня КЛАССА, объявленные до формирования ЭКЗЕМПЛЯРА КЛАССА\n",
    "    dead_health = 0        # -\"- Их можно ВЫЗВАТЬ НЕ СОЗДАВАЯ ЭКЗЕМПЛЯР класса(типа Character)\n",
    "    \n",
    "                               # А аттрибуты, объявленные ВНУТРИ ОБЪЕКТА, не могут быть просмотрены из class Character\n",
    "    def __init__(self, race, damage=10, armor=20):       # Это и есть его КОНСТРУКТОР, включающий аттрибуты:  race, damage, armor\n",
    "        self.race = race       # объявляем рассу и присваиваем её значение race\n",
    "        self.damage = damage   # объявляем защиту и присваиваем её значение damage\n",
    "        self.armor = armor    # объявляем броню и присваиваем её значение armor\n",
    "        self.health = 100     # просто ЯВНО создаём аттрибут  здоровье и присваиваем ему = 100 (не снаружи даём значение как остальным, а напрямую)\n",
    "        \n",
    "    def hit(self, damage):    # далее создаём функцию (или метод, или операцию - удар = hit), с аттрибутом урон = damage\n",
    "        self.health -= damage\n",
    "    \n",
    "    def is_dead(self):        # далее создаём функцию, проверяющую, не умер ли юнит, есть ли ещё здоровье у него\n",
    "        return self.health == Character.dead_health  "
   ]
  },
  {
   "cell_type": "code",
   "execution_count": 15,
   "metadata": {},
   "outputs": [
    {
     "name": "stdout",
     "output_type": "stream",
     "text": [
      "Ork\n",
      "100\n"
     ]
    }
   ],
   "source": [
    "unit = Character('Ork')     # создаём экземпляр класса - unit\n",
    "print(unit.race)                # вот так можем обратиться к рассе, т.к. она является аттрибутом ОБЪЕКТА\n",
    "print(Character.max_speed)      # а вот так можем оьратиться к скорости, т.к. она является аттрибутом класса, а не объета"
   ]
  },
  {
   "cell_type": "code",
   "execution_count": 12,
   "metadata": {},
   "outputs": [
    {
     "ename": "AttributeError",
     "evalue": "type object 'Character' has no attribute 'race'",
     "output_type": "error",
     "traceback": [
      "\u001b[1;31m---------------------------------------------------------------------------\u001b[0m",
      "\u001b[1;31mAttributeError\u001b[0m                            Traceback (most recent call last)",
      "\u001b[1;32m<ipython-input-12-a378c6b990c3>\u001b[0m in \u001b[0;36m<module>\u001b[1;34m\u001b[0m\n\u001b[1;32m----> 1\u001b[1;33m \u001b[0mprint\u001b[0m\u001b[1;33m(\u001b[0m\u001b[0mCharacter\u001b[0m\u001b[1;33m.\u001b[0m\u001b[0mrace\u001b[0m\u001b[1;33m)\u001b[0m   \u001b[1;31m# НЕ МОЖЕМ обратиться к рассе, т.к. она доступна только после создания ЭКЗЕМПЛЯРА класса\u001b[0m\u001b[1;33m\u001b[0m\u001b[1;33m\u001b[0m\u001b[0m\n\u001b[0m",
      "\u001b[1;31mAttributeError\u001b[0m: type object 'Character' has no attribute 'race'"
     ]
    }
   ],
   "source": [
    "print(Character.race)   # НЕ МОЖЕМ обратиться к рассе, т.к. она доступна только после создания ЭКЗЕМПЛЯРА класса"
   ]
  },
  {
   "cell_type": "code",
   "execution_count": 16,
   "metadata": {},
   "outputs": [
    {
     "name": "stdout",
     "output_type": "stream",
     "text": [
      "80\n"
     ]
    }
   ],
   "source": [
    "unit.hit(20)\n",
    "print(unit.health)"
   ]
  },
  {
   "cell_type": "code",
   "execution_count": 18,
   "metadata": {},
   "outputs": [
    {
     "data": {
      "text/plain": [
       "False"
      ]
     },
     "execution_count": 18,
     "metadata": {},
     "output_type": "execute_result"
    }
   ],
   "source": [
    "unit.is_dead()"
   ]
  },
  {
   "cell_type": "code",
   "execution_count": 19,
   "metadata": {},
   "outputs": [],
   "source": [
    "unit.hit(80)"
   ]
  },
  {
   "cell_type": "code",
   "execution_count": 21,
   "metadata": {},
   "outputs": [
    {
     "data": {
      "text/plain": [
       "True"
      ]
     },
     "execution_count": 21,
     "metadata": {},
     "output_type": "execute_result"
    }
   ],
   "source": [
    "unit.is_dead()"
   ]
  },
  {
   "cell_type": "code",
   "execution_count": 22,
   "metadata": {},
   "outputs": [
    {
     "data": {
      "text/plain": [
       "-200"
      ]
     },
     "execution_count": 22,
     "metadata": {},
     "output_type": "execute_result"
    }
   ],
   "source": [
    "# аттрибут(health) можно модифицировать не через метод(hit), а напрямую: и это работает.\n",
    "\n",
    "unit.health = -200\n",
    "unit.health"
   ]
  }
 ],
 "metadata": {
  "kernelspec": {
   "display_name": "Python 3",
   "language": "python",
   "name": "python3"
  },
  "language_info": {
   "codemirror_mode": {
    "name": "ipython",
    "version": 3
   },
   "file_extension": ".py",
   "mimetype": "text/x-python",
   "name": "python",
   "nbconvert_exporter": "python",
   "pygments_lexer": "ipython3",
   "version": "3.7.4"
  }
 },
 "nbformat": 4,
 "nbformat_minor": 2
}
