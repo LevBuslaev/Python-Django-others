{
 "cells": [
  {
   "cell_type": "code",
   "execution_count": 40,
   "metadata": {},
   "outputs": [],
   "source": [
    "class Character():\n",
    "    MAX_SPEED = 100     # это КОНСТАНТА.  Пишестя с ЗАГЛАВНОЙ буквы\n",
    "    \n",
    "    def __init__(self, race, damage = 10):\n",
    "        self.damage = damage\n",
    "        \n",
    "        self.__race = race   # с двумя подчёркиваниями перед - ПРИВАТНЫЙ АТТРИБУТ - НЕ ВИДЕН НИГДЕ   (логично. Расса же не меняется. Даже в наследниках). ДВЕ ПОДЧЁРКИВАЛКИ перед аттрибутом\n",
    "        self._health = 100        #  с одним подчёркиванием впереди   - ЗАЩИЩЁННЫЙ АТТРИБУТ - ВИДЕН ТОЛЬКО В НАСЛЕДНИКАХ  - виден только в КЛАССАХ-НСАЛЕДНИКАХ\n",
    "   \n",
    "        self._current_speed = 20\n",
    "\n",
    "    def hit(self, damage):\n",
    "        self._health -= damage\n",
    "        \n",
    "        # ===================== КАК ДАТЬ ДОСТУП к __ПРИВАТНЫМ и _ЗАЩИЩЁННЫМ атрибутам  =========С ПОМОЩЬЮ  СВОЙСТВ  @ =======\n",
    "    \n",
    "    @property                            # для объявления СВОЙСТВА используем ДЕКОРАТОР  @property\n",
    "    def health(self):\n",
    "        return self._health\n",
    "    \n",
    "    @property\n",
    "    def race(self):\n",
    "        return self.__race\n",
    "    \n",
    "    @property\n",
    "    def current_speed(self):\n",
    "        return self._current_speed\n",
    "    \n",
    "    @current_speed.setter\n",
    "    def current_speed(self, current_speed):\n",
    "        if current_speed < 0:\n",
    "            self._current_speed = 0\n",
    "        elif current_speed > 100:\n",
    "             self._current_speed = 100\n",
    "        else:\n",
    "             self._current_speed = current_speed"
   ]
  },
  {
   "cell_type": "code",
   "execution_count": 41,
   "metadata": {
    "scrolled": true
   },
   "outputs": [
    {
     "data": {
      "text/plain": [
       "100"
      ]
     },
     "execution_count": 41,
     "metadata": {},
     "output_type": "execute_result"
    }
   ],
   "source": [
    "Character.MAX_SPEED"
   ]
  },
  {
   "cell_type": "code",
   "execution_count": 42,
   "metadata": {},
   "outputs": [
    {
     "data": {
      "text/plain": [
       "10"
      ]
     },
     "execution_count": 42,
     "metadata": {},
     "output_type": "execute_result"
    }
   ],
   "source": [
    "Character.MAX_SPEED = 10     # и эту КОНСТАНТУ можно ещё и МЕНЯТЬ в Python,  в отличие от C# и Java\n",
    "Character.MAX_SPEED"
   ]
  },
  {
   "cell_type": "code",
   "execution_count": 43,
   "metadata": {},
   "outputs": [],
   "source": [
    "c = Character('Elf')"
   ]
  },
  {
   "cell_type": "code",
   "execution_count": 44,
   "metadata": {},
   "outputs": [
    {
     "ename": "AttributeError",
     "evalue": "'Character' object has no attribute '__race'",
     "output_type": "error",
     "traceback": [
      "\u001b[1;31m---------------------------------------------------------------------------\u001b[0m",
      "\u001b[1;31mAttributeError\u001b[0m                            Traceback (most recent call last)",
      "\u001b[1;32m<ipython-input-44-b292233858f5>\u001b[0m in \u001b[0;36m<module>\u001b[1;34m\u001b[0m\n\u001b[1;32m----> 1\u001b[1;33m \u001b[0mc\u001b[0m\u001b[1;33m.\u001b[0m\u001b[0m__race\u001b[0m\u001b[1;33m\u001b[0m\u001b[1;33m\u001b[0m\u001b[0m\n\u001b[0m",
      "\u001b[1;31mAttributeError\u001b[0m: 'Character' object has no attribute '__race'"
     ]
    }
   ],
   "source": [
    "c.__race"
   ]
  },
  {
   "cell_type": "code",
   "execution_count": 45,
   "metadata": {},
   "outputs": [
    {
     "data": {
      "text/plain": [
       "'Orc'"
      ]
     },
     "execution_count": 45,
     "metadata": {},
     "output_type": "execute_result"
    }
   ],
   "source": [
    "c._Character__race = 'Orc'  # ================= Вот ТАК можно поменять ПРИВАТНЫЙ аттрибут !!!!!!!!!!!================\n",
    "c._Character__race"
   ]
  },
  {
   "cell_type": "code",
   "execution_count": 46,
   "metadata": {},
   "outputs": [
    {
     "data": {
      "text/plain": [
       "0"
      ]
     },
     "execution_count": 46,
     "metadata": {},
     "output_type": "execute_result"
    }
   ],
   "source": [
    "c._health = 0\n",
    "c._health"
   ]
  },
  {
   "cell_type": "code",
   "execution_count": 47,
   "metadata": {},
   "outputs": [],
   "source": [
    "# ====================== СВОЙСТВА применять, только если имеется какая-то ЛОГИКА"
   ]
  },
  {
   "cell_type": "code",
   "execution_count": 48,
   "metadata": {
    "scrolled": true
   },
   "outputs": [
    {
     "name": "stdout",
     "output_type": "stream",
     "text": [
      "0\n",
      "Orc\n"
     ]
    }
   ],
   "source": [
    "print(c.health)\n",
    "print(c.race)"
   ]
  },
  {
   "cell_type": "code",
   "execution_count": 50,
   "metadata": {},
   "outputs": [
    {
     "ename": "AttributeError",
     "evalue": "can't set attribute",
     "output_type": "error",
     "traceback": [
      "\u001b[1;31m---------------------------------------------------------------------------\u001b[0m",
      "\u001b[1;31mAttributeError\u001b[0m                            Traceback (most recent call last)",
      "\u001b[1;32m<ipython-input-50-26f95bf63510>\u001b[0m in \u001b[0;36m<module>\u001b[1;34m\u001b[0m\n\u001b[1;32m----> 1\u001b[1;33m \u001b[0mc\u001b[0m\u001b[1;33m.\u001b[0m\u001b[0mhealth\u001b[0m \u001b[1;33m=\u001b[0m \u001b[1;36m10\u001b[0m\u001b[1;33m\u001b[0m\u001b[1;33m\u001b[0m\u001b[0m\n\u001b[0m",
      "\u001b[1;31mAttributeError\u001b[0m: can't set attribute"
     ]
    }
   ],
   "source": [
    "c.health = 10"
   ]
  },
  {
   "cell_type": "code",
   "execution_count": 51,
   "metadata": {},
   "outputs": [
    {
     "data": {
      "text/plain": [
       "20"
      ]
     },
     "execution_count": 51,
     "metadata": {},
     "output_type": "execute_result"
    }
   ],
   "source": [
    "c.current_speed"
   ]
  },
  {
   "cell_type": "code",
   "execution_count": 52,
   "metadata": {},
   "outputs": [
    {
     "data": {
      "text/plain": [
       "50"
      ]
     },
     "execution_count": 52,
     "metadata": {},
     "output_type": "execute_result"
    }
   ],
   "source": [
    "c.current_speed = 50\n",
    "c.current_speed"
   ]
  },
  {
   "cell_type": "code",
   "execution_count": 53,
   "metadata": {},
   "outputs": [
    {
     "data": {
      "text/plain": [
       "100"
      ]
     },
     "execution_count": 53,
     "metadata": {},
     "output_type": "execute_result"
    }
   ],
   "source": [
    "c.current_speed = 1000\n",
    "c.current_speed"
   ]
  },
  {
   "cell_type": "code",
   "execution_count": 54,
   "metadata": {},
   "outputs": [
    {
     "data": {
      "text/plain": [
       "0"
      ]
     },
     "execution_count": 54,
     "metadata": {},
     "output_type": "execute_result"
    }
   ],
   "source": [
    "c.current_speed = -10\n",
    "c.current_speed"
   ]
  }
 ],
 "metadata": {
  "kernelspec": {
   "display_name": "Python 3",
   "language": "python",
   "name": "python3"
  },
  "language_info": {
   "codemirror_mode": {
    "name": "ipython",
    "version": 3
   },
   "file_extension": ".py",
   "mimetype": "text/x-python",
   "name": "python",
   "nbconvert_exporter": "python",
   "pygments_lexer": "ipython3",
   "version": "3.7.4"
  }
 },
 "nbformat": 4,
 "nbformat_minor": 2
}
