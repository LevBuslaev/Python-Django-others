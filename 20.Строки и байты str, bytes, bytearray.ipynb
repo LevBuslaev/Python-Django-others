{
 "cells": [
  {
   "cell_type": "code",
   "execution_count": 3,
   "metadata": {},
   "outputs": [
    {
     "data": {
      "text/plain": [
       "'utf-8'"
      ]
     },
     "execution_count": 3,
     "metadata": {},
     "output_type": "execute_result"
    }
   ],
   "source": [
    "import sys\n",
    "sys.getdefaultencoding() # по умолчанию используется таблица utf-8"
   ]
  },
  {
   "cell_type": "code",
   "execution_count": 4,
   "metadata": {},
   "outputs": [
    {
     "data": {
      "text/plain": [
       "97"
      ]
     },
     "execution_count": 4,
     "metadata": {},
     "output_type": "execute_result"
    }
   ],
   "source": [
    "ord('a')   # можно узнать код любого символа. например символа 'a'"
   ]
  },
  {
   "cell_type": "code",
   "execution_count": 6,
   "metadata": {},
   "outputs": [
    {
     "data": {
      "text/plain": [
       "'a'"
      ]
     },
     "execution_count": 6,
     "metadata": {},
     "output_type": "execute_result"
    }
   ],
   "source": [
    "chr(97)   # по коду можно функцией chr вернуть символ любой"
   ]
  },
  {
   "cell_type": "code",
   "execution_count": 7,
   "metadata": {},
   "outputs": [
    {
     "data": {
      "text/plain": [
       "'Æ'"
      ]
     },
     "execution_count": 7,
     "metadata": {},
     "output_type": "execute_result"
    }
   ],
   "source": [
    "chr(198)  # ЛЮБОЙ СИМВОЛ. например 198-й"
   ]
  },
  {
   "cell_type": "code",
   "execution_count": 8,
   "metadata": {},
   "outputs": [
    {
     "name": "stdout",
     "output_type": "stream",
     "text": [
      "<class 'bytes'>\n",
      "<class 'bytes'>\n",
      "<class 'bytes'>\n",
      "b'hello'\n",
      "b'hello'\n",
      "b'\\xff\\xfeh\\x00e\\x00l\\x00l\\x00o\\x00'\n"
     ]
    }
   ],
   "source": [
    "s = 'hello' # создадим какую нибудь строчку и переведём её в байты\n",
    "enc_ascii = s.encode('ascii') # вытащим командой encode в переменную enc_ascii строку 'hello' в кодировке ascii\n",
    "enc_utf8 = s.encode('utf8') # вытащим командой encode в переменную enc_utf8 строку 'hello' в кодировке utf8\n",
    "enc_utf16 = s.encode('utf16') # вытащим командой encode в переменную enc_utf16 строку 'hello' в кодировке utf16\n",
    "    \n",
    "            # выведем эти переменные в указанных кодировках\n",
    "print(type(enc_ascii))   # здесь покажем Тип переменной ascii\n",
    "print(type(enc_utf8))   # здесь покажем Тип переменной utf8\n",
    "print(type(enc_utf16))   # здесь покажем Тип переменной utf16\n",
    "print(enc_ascii)\n",
    "print(enc_utf8)\n",
    "print(enc_utf16)"
   ]
  },
  {
   "cell_type": "code",
   "execution_count": 9,
   "metadata": {},
   "outputs": [
    {
     "name": "stdout",
     "output_type": "stream",
     "text": [
      "5\n",
      "5\n",
      "12\n"
     ]
    }
   ],
   "source": [
    "print(len(enc_ascii))  # длина в байтах в кодировке ascii\n",
    "print(len(enc_utf8))   # длина в байтах в кодировке utf8\n",
    "print(len(enc_utf16))  # длина в байтах в кодировке utf16\n"
   ]
  },
  {
   "cell_type": "code",
   "execution_count": 11,
   "metadata": {},
   "outputs": [
    {
     "name": "stdout",
     "output_type": "stream",
     "text": [
      "<class 'bytes'>\n",
      "<class 'str'>\n"
     ]
    }
   ],
   "source": [
    "str_in_bytes = b'hello'         # строка в байтах задаётся префиксом b (без пробелов)\n",
    "str_in_text = 'hello'            # строка в виде текста просто строка \n",
    "str_in_bytes = s.encode('utf8')  #  строка в байтах с помощью функции encode и вида кодировки\n",
    "\n",
    "print(type(str_in_bytes))    #  вывести Тип строки bytes - байты\n",
    "print(type(str_in_text))     #  вывести Тип строки str - строки"
   ]
  },
  {
   "cell_type": "code",
   "execution_count": 12,
   "metadata": {
    "scrolled": false
   },
   "outputs": [
    {
     "name": "stdout",
     "output_type": "stream",
     "text": [
      "b'bytes'\n",
      "b'\\xd0\\xb1\\xd0\\xb0\\xd0\\xb9\\xd1\\x82\\xd1\\x8b'\n"
     ]
    }
   ],
   "source": [
    "print('bytes'.encode('utf8'))   # вывод строки 'bytes' в виде кода в utf8\n",
    "print('байты'.encode('utf8'))   # вывод РУССКОЙ строки 'байты' (кириллица)"
   ]
  },
  {
   "cell_type": "code",
   "execution_count": 13,
   "metadata": {},
   "outputs": [
    {
     "name": "stdout",
     "output_type": "stream",
     "text": [
      "104\n",
      "h\n"
     ]
    }
   ],
   "source": [
    "print(str_in_bytes[0])  # вывод 1-го символа строки 'hello' хранящейся в переменной str_in_bytes\n",
    "print(str_in_text[0])   # вывод 1-го символа строки 'hello' хранящейся в переменной str_in_text"
   ]
  },
  {
   "cell_type": "code",
   "execution_count": 15,
   "metadata": {},
   "outputs": [
    {
     "data": {
      "text/plain": [
       "bytearray(b'Wello')"
      ]
     },
     "execution_count": 15,
     "metadata": {},
     "output_type": "execute_result"
    }
   ],
   "source": [
    "  #Тип byte  и  Тип str  являются НЕ ИЗМЕНЯЕМЫМ\n",
    "    #  Если НУЖНО поменять символы в строках этих типов, то применяются\n",
    "    #  другие типы. например тип bytearray. (это в языке Python)\n",
    "    #  Это то же самое,но в нём можно менять символы\n",
    "    \n",
    "ba = bytearray(b'hello') # создаём переменную ba типа bytearray(в её конструкторе)\n",
    "ba[0] = 87    # заменяем нулевой символ симовлом с кодом 87\n",
    "ba            # выводим эту переменную ba. (произошла замена h  на  W).см.ниже"
   ]
  },
  {
   "cell_type": "code",
   "execution_count": 17,
   "metadata": {},
   "outputs": [
    {
     "name": "stdout",
     "output_type": "stream",
     "text": [
      "b'hello'\n",
      "8\n"
     ]
    }
   ],
   "source": [
    "result = str(str_in_bytes)  # конструктор str пытаемся вывести битовую строку.\n",
    "print(result)               # д.б. hello. Выводит неправильно b'hello'\n",
    "print(len(result))          # и длина не 6, как должно быть, а 8"
   ]
  },
  {
   "cell_type": "code",
   "execution_count": 18,
   "metadata": {},
   "outputs": [
    {
     "name": "stdout",
     "output_type": "stream",
     "text": [
      "hello\n",
      "5\n"
     ]
    }
   ],
   "source": [
    "result = str(str_in_bytes, 'utf8')  # конструктор str пытаемся вывести битовую строку.\n",
    "print(result)               # НУЖНО ДОБАВИТЬ ТАБЛИЦУ КОДИРОВКИ\n",
    "print(len(result))          # тогда всё ПРАВИЛЬНО"
   ]
  },
  {
   "cell_type": "code",
   "execution_count": 20,
   "metadata": {},
   "outputs": [
    {
     "name": "stdout",
     "output_type": "stream",
     "text": [
      "hello\n"
     ]
    }
   ],
   "source": [
    "# используйте ФУНКЦИЮ  decode() она вообще не отработает, если ей не сообщили \n",
    "# декодировочную таблицу.\n",
    "\n",
    "result = str_in_bytes.decode('utf8')\n",
    "print(result)"
   ]
  },
  {
   "cell_type": "code",
   "execution_count": 28,
   "metadata": {
    "scrolled": false
   },
   "outputs": [],
   "source": [
    "jpeg = [120, 3, 255, 0, 100]\n",
    "with open(r'C:\\tmp\\btest.bin', 'w+b') as file:\n",
    "    file.write(bytes(jpeg)) "
   ]
  },
  {
   "cell_type": "code",
   "execution_count": 30,
   "metadata": {
    "scrolled": false
   },
   "outputs": [
    {
     "name": "stdout",
     "output_type": "stream",
     "text": [
      "120\n",
      "3\n",
      "255\n",
      "0\n",
      "100\n"
     ]
    }
   ],
   "source": [
    "with open(r'C:\\tmp\\btest.bin', 'rb') as file:\n",
    "    data = file.read()\n",
    "    for b in data:\n",
    "        print(int(b))"
   ]
  }
 ],
 "metadata": {
  "kernelspec": {
   "display_name": "Python 3",
   "language": "python",
   "name": "python3"
  },
  "language_info": {
   "codemirror_mode": {
    "name": "ipython",
    "version": 3
   },
   "file_extension": ".py",
   "mimetype": "text/x-python",
   "name": "python",
   "nbconvert_exporter": "python",
   "pygments_lexer": "ipython3",
   "version": "3.7.4"
  }
 },
 "nbformat": 4,
 "nbformat_minor": 2
}
