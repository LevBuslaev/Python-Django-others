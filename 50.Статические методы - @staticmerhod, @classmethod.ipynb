{
 "cells": [
  {
   "cell_type": "code",
   "execution_count": 2,
   "metadata": {},
   "outputs": [],
   "source": [
    "   # Когда мы делаем ДОСТУП к АТТРИБУТУ через ИНСТАНЦ(т.е.через ЭКЗЕМПЛЯР КЛАССА, \n",
    "   # то мы не делаем ДОСТУП к СТАТИЧЕСКОМУ Аттрибуту, мы СОЗДАЁМ НОВЫЙ АТТРИБУТ внутри КЛАССА уровня ИНСТАНЦИИ (ОБЪЕКТА)\n",
    "\n",
    "class StaticTest:\n",
    "    x = 1"
   ]
  },
  {
   "cell_type": "code",
   "execution_count": 3,
   "metadata": {},
   "outputs": [],
   "source": [
    "t1 = StaticTest()"
   ]
  },
  {
   "cell_type": "code",
   "execution_count": 4,
   "metadata": {},
   "outputs": [
    {
     "name": "stdout",
     "output_type": "stream",
     "text": [
      "via instance:1\n",
      "via class:1\n"
     ]
    }
   ],
   "source": [
    "print(f'via instance:{t1.x}')         # вывести значение х через Инстанс = Экземпляр Класса.                          Выводит!\n",
    "print(f'via class:{StaticTest.x}')    # вывксти НЕПОСРЕДСТВЕННО ЧЕРЕЗ КЛАСС, несмотря на то,что он статический(??)    Выводит!"
   ]
  },
  {
   "cell_type": "code",
   "execution_count": 5,
   "metadata": {},
   "outputs": [],
   "source": [
    "#  У нас есть не только на ЧТЕНИЕ, но и на ЗАПИСЬ  через ИНСТАНС и через КЛАСС !!!\n",
    "                # Вот такой ДОСТУП к Х и записи в него, СОЗДАЁТ АТТРИБУТ на  уровне ИНСТАНС(т.е. на уровне ОБЪЕКТА) \n",
    "                # и записываем в него 2\n",
    "t1.x = 2"
   ]
  },
  {
   "cell_type": "code",
   "execution_count": 7,
   "metadata": {
    "scrolled": true
   },
   "outputs": [
    {
     "name": "stdout",
     "output_type": "stream",
     "text": [
      "via instance:2\n",
      "via class:1\n"
     ]
    }
   ],
   "source": [
    "print(f'via instance:{t1.x}')         #  то есть этот   х                         \n",
    "print(f'via class:{StaticTest.x}')    #        и этот   х  это два РАЗНЫХ аттрибута"
   ]
  },
  {
   "cell_type": "code",
   "execution_count": 8,
   "metadata": {},
   "outputs": [],
   "source": [
    "StaticTest.x = 3     # исполним"
   ]
  },
  {
   "cell_type": "code",
   "execution_count": 9,
   "metadata": {},
   "outputs": [
    {
     "name": "stdout",
     "output_type": "stream",
     "text": [
      "via instance:2\n",
      "via class:3\n"
     ]
    }
   ],
   "source": [
    "print(f'via instance:{t1.x}')         #   инстанция останется нетронутой                       \n",
    "print(f'via class:{StaticTest.x}')    #  а в классе аттрибут изменится. Вот такое присваивание происходит на уровне классов  "
   ]
  }
 ],
 "metadata": {
  "kernelspec": {
   "display_name": "Python 3",
   "language": "python",
   "name": "python3"
  },
  "language_info": {
   "codemirror_mode": {
    "name": "ipython",
    "version": 3
   },
   "file_extension": ".py",
   "mimetype": "text/x-python",
   "name": "python",
   "nbconvert_exporter": "python",
   "pygments_lexer": "ipython3",
   "version": "3.7.4"
  }
 },
 "nbformat": 4,
 "nbformat_minor": 2
}
