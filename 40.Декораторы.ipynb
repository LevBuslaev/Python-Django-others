{
 "cells": [
  {
   "cell_type": "code",
   "execution_count": 5,
   "metadata": {},
   "outputs": [],
   "source": [
    "def hello_world():\n",
    "    print('Hello, world!')\n",
    "    hello_world()"
   ]
  },
  {
   "cell_type": "code",
   "execution_count": 7,
   "metadata": {},
   "outputs": [
    {
     "data": {
      "text/plain": [
       "<function __main__.hello_world()>"
      ]
     },
     "execution_count": 7,
     "metadata": {},
     "output_type": "execute_result"
    }
   ],
   "source": [
    "hello2 = hello_world\n",
    "hello2"
   ]
  },
  {
   "cell_type": "code",
   "execution_count": 15,
   "metadata": {},
   "outputs": [
    {
     "name": "stdout",
     "output_type": "stream",
     "text": [
      "Hello, world!\n"
     ]
    }
   ],
   "source": [
    "hello2()"
   ]
  },
  {
   "cell_type": "code",
   "execution_count": 14,
   "metadata": {},
   "outputs": [],
   "source": [
    "def hello_world():\n",
    "    def internal():\n",
    "        print('Hello, world!')\n",
    "    return internal"
   ]
  },
  {
   "cell_type": "code",
   "execution_count": 16,
   "metadata": {},
   "outputs": [
    {
     "data": {
      "text/plain": [
       "<function __main__.hello_world.<locals>.internal()>"
      ]
     },
     "execution_count": 16,
     "metadata": {},
     "output_type": "execute_result"
    }
   ],
   "source": [
    "hello2 = hello_world()\n",
    "hello2"
   ]
  },
  {
   "cell_type": "code",
   "execution_count": 17,
   "metadata": {},
   "outputs": [
    {
     "name": "stdout",
     "output_type": "stream",
     "text": [
      "Hello, world!\n"
     ]
    }
   ],
   "source": [
    "hello2()"
   ]
  },
  {
   "cell_type": "code",
   "execution_count": 19,
   "metadata": {},
   "outputs": [
    {
     "name": "stdout",
     "output_type": "stream",
     "text": [
      "Hello, world!\n"
     ]
    }
   ],
   "source": [
    "def say_something(func):     #создаём функцию say_something(func)\n",
    "    func()                   # вызываем функцию   func(), которая является аргументом верхней функции\n",
    "def hello_world():           # создаём функцию hello_world() печатающую Hello, world!\n",
    "    print('Hello, world!')\n",
    "    \n",
    "say_something(hello_world)   # вызываем функцию say_something с аргументом = функцией hello_world, печатающей Hello, world!\n",
    "                             # результат ожидаемый. Напечатано Hello, world!"
   ]
  },
  {
   "cell_type": "code",
   "execution_count": 20,
   "metadata": {},
   "outputs": [],
   "source": [
    "# создадим функцию - ДЕКОРАТОР т.е. обёртку =============+++++++++++++++++++==============="
   ]
  },
  {
   "cell_type": "code",
   "execution_count": 27,
   "metadata": {},
   "outputs": [],
   "source": [
    "def log_decorator(func):\n",
    "    def wrap():                # создаём некую функцию - обёртку\n",
    "        print(f'Вызовем функцию {func}')\n",
    "        func()                 # вызовем функцию func()\n",
    "        print(f'Функция {func} заканчивает свою работу')\n",
    "    return wrap"
   ]
  },
  {
   "cell_type": "code",
   "execution_count": 28,
   "metadata": {},
   "outputs": [],
   "source": [
    "def hello():\n",
    "    print('hello, world!')"
   ]
  },
  {
   "cell_type": "code",
   "execution_count": 31,
   "metadata": {},
   "outputs": [
    {
     "name": "stdout",
     "output_type": "stream",
     "text": [
      "Вызовем функцию <function hello at 0x0000025E180F7438>\n",
      "hello, world!\n",
      "Функция <function hello at 0x0000025E180F7438> заканчивает свою работу\n"
     ]
    }
   ],
   "source": [
    "wrapped_by_logger = log_decorator(hello)   # запишем в переменную wrapped_by_decorator функцию, log_decorator, содержащую функцию - обёртку wrap\n",
    "wrapped_by_logger()                        # выведем эту переменную"
   ]
  },
  {
   "cell_type": "code",
   "execution_count": 32,
   "metadata": {},
   "outputs": [],
   "source": [
    "# СИНТАКСИС ФУНКЦИИ ОБЁРТКИ zb: log_decorator =====================+++++++++++++++++++++++===========================\n",
    "\n",
    "@log_decorator\n",
    "def hello():\n",
    "    print('hello, world!')"
   ]
  },
  {
   "cell_type": "code",
   "execution_count": 33,
   "metadata": {},
   "outputs": [
    {
     "name": "stdout",
     "output_type": "stream",
     "text": [
      "Вызовем функцию <function hello at 0x0000025E180F7288>\n",
      "hello, world!\n",
      "Функция <function hello at 0x0000025E180F7288> заканчивает свою работу\n"
     ]
    }
   ],
   "source": [
    "hello()"
   ]
  },
  {
   "cell_type": "code",
   "execution_count": 34,
   "metadata": {},
   "outputs": [],
   "source": [
    "#   Ещё один ДЕКОРАТОР для примера: ============================+++++++++++++++++++++=============================\n",
    "#   Определяет СКОРОСТЬ работы функции:=========================+++++++++++++++++++++=============================\n",
    "#   сначала импортируем кое какие ОБЪЕКТЫ из модуля   timeit\n",
    "from timeit import default_timer as timer\n",
    "import math\n",
    "import time"
   ]
  },
  {
   "cell_type": "code",
   "execution_count": null,
   "metadata": {},
   "outputs": [],
   "source": [
    "def measure_time(func):  # напишем ДЕКОРАТОР, принимающий функцию в качестве аргумента\n",
    "    "
   ]
  }
 ],
 "metadata": {
  "kernelspec": {
   "display_name": "Python 3",
   "language": "python",
   "name": "python3"
  },
  "language_info": {
   "codemirror_mode": {
    "name": "ipython",
    "version": 3
   },
   "file_extension": ".py",
   "mimetype": "text/x-python",
   "name": "python",
   "nbconvert_exporter": "python",
   "pygments_lexer": "ipython3",
   "version": "3.7.4"
  }
 },
 "nbformat": 4,
 "nbformat_minor": 2
}
